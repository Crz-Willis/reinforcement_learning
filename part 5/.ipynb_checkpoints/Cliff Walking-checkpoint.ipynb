{
 "cells": [
  {
   "cell_type": "code",
   "execution_count": 1,
   "id": "8298acec",
   "metadata": {},
   "outputs": [],
   "source": [
    "import numpy as np\n",
    "import matplotlib.pyplot as plt\n",
    "import random"
   ]
  },
  {
   "cell_type": "code",
   "execution_count": 2,
   "id": "5783d719",
   "metadata": {},
   "outputs": [],
   "source": [
    "cliff=[[-1 for j in range(12)] for i in range(4)]\n",
    "for i in range(1,11):\n",
    "    cliff[3][i]=-100 #悬崖\n",
    "    \n",
    "cliff[3][11]=0\n",
    "start=[3,0]\n",
    "end=[3,11]\n"
   ]
  },
  {
   "cell_type": "code",
   "execution_count": 3,
   "id": "cf77f99c",
   "metadata": {},
   "outputs": [],
   "source": [
    "eps=0.1\n",
    "gamma=1\n",
    "episodes=500\n",
    "d=[[0,1],[0,-1],[1,0],[-1,0]]\n",
    "alpha=0.5\n",
    "iterations=1000"
   ]
  },
  {
   "cell_type": "code",
   "execution_count": 4,
   "id": "198b430f",
   "metadata": {},
   "outputs": [],
   "source": [
    "reward_Sarsa=[0 for i in range(episodes)]\n",
    "reward_Q=[0 for i in range(episodes)]\n",
    "x=[i for i in range(1,501)]"
   ]
  },
  {
   "cell_type": "code",
   "execution_count": 5,
   "id": "a7a00679",
   "metadata": {},
   "outputs": [],
   "source": [
    "def getaction_Sarsa(S,eps):\n",
    "    p=random.random()\n",
    "    if(p<eps):\n",
    "        a=random.randint(0,3)\n",
    "        return a\n",
    "    else:\n",
    "        a=[]\n",
    "        mx=-1e9\n",
    "        for i in range(4):\n",
    "            if mx<Q_Sarsa[S[0]][S[1]][i]:\n",
    "                mx=Q_Sarsa[S[0]][S[1]][i]\n",
    "                \n",
    "        for i in range(4):\n",
    "            if mx==Q_Sarsa[S[0]][S[1]][i]:\n",
    "                a.append(i)\n",
    "        return random.choice(a)"
   ]
  },
  {
   "cell_type": "code",
   "execution_count": 6,
   "id": "816011aa",
   "metadata": {},
   "outputs": [],
   "source": [
    "def episode_Sarsa(eps):\n",
    "    state=start\n",
    "    A=getaction_Sarsa(state,eps)\n",
    "    all_reward=0\n",
    "    while True:\n",
    "        newx=state[0]+d[A][0]\n",
    "        newy=state[1]+d[A][1]\n",
    "        if newx<0 or newx>3:\n",
    "            newx=state[0]\n",
    "        if newy<0 or newy>11:\n",
    "            newy=state[1]\n",
    "        reward=cliff[newx][newy]\n",
    "        all_reward+=reward\n",
    "        newA=getaction_Sarsa([newx,newy],eps)\n",
    "        Q_Sarsa[state[0]][state[1]][A]+=alpha*(reward+gamma*Q_Sarsa[newx][newy][newA]-Q_Sarsa[state[0]][state[1]][A])\n",
    "        if cliff[newx][newy]==-100:\n",
    "            break\n",
    "        if [newx,newy]==end:\n",
    "            break\n",
    "        state=[newx,newy]\n",
    "        A=newA\n",
    "    return all_reward"
   ]
  },
  {
   "cell_type": "code",
   "execution_count": 7,
   "id": "09c7f507",
   "metadata": {},
   "outputs": [],
   "source": [
    "def getaction_Q(S,eps):\n",
    "    p=random.random()\n",
    "    if(p<eps):\n",
    "        a=random.randint(0,3)\n",
    "        return a\n",
    "    else:\n",
    "        a=[]\n",
    "        mx=-1e9\n",
    "        for i in range(4):\n",
    "            if mx<Q_Q[S[0]][S[1]][i]:\n",
    "                mx=Q_Q[S[0]][S[1]][i]\n",
    "                \n",
    "        for i in range(4):\n",
    "            if mx==Q_Q[S[0]][S[1]][i]:\n",
    "                a.append(i)\n",
    "        return random.choice(a)"
   ]
  },
  {
   "cell_type": "code",
   "execution_count": 8,
   "id": "f0edcc47",
   "metadata": {},
   "outputs": [],
   "source": [
    "def episode_Q(eps):\n",
    "    state=start\n",
    "    all_reward=0\n",
    "    while True:\n",
    "        A=getaction_Q(state,eps)\n",
    "        newx=state[0]+d[A][0]\n",
    "        newy=state[1]+d[A][1]\n",
    "        if newx<0 or newx>3:\n",
    "            newx=state[0]\n",
    "        if newy<0 or newy>11:\n",
    "            newy=state[1]\n",
    "        reward=cliff[newx][newy]\n",
    "        all_reward+=reward\n",
    "        Q_Q[state[0]][state[1]][A]+=alpha*(reward+gamma*max(Q_Q[newx][newy])-Q_Q[state[0]][state[1]][A])\n",
    "        if cliff[newx][newy]==-100:\n",
    "            break\n",
    "        if [newx,newy]==end:\n",
    "            break\n",
    "        state=[newx,newy]\n",
    "    return all_reward"
   ]
  },
  {
   "cell_type": "code",
   "execution_count": null,
   "id": "65d14bd9",
   "metadata": {},
   "outputs": [],
   "source": [
    "for iter in range(iterations):\n",
    "    A_Sarsa=[[0 for j in range(12)] for i in range(4)]\n",
    "    Q_Sarsa=[[[0 for k in range(4)] for j in range(12)] for i in range(4)]\n",
    "    A_Q=[[0 for j in range(12)] for i in range(4)]\n",
    "    Q_Q=[[[0 for k in range(4)] for j in range(12)] for i in range(4)]\n",
    "    for epi in range(episodes):\n",
    "        tmp_reward_Q=episode_Q(eps)\n",
    "        tmp_reward_Sarsa=episode_Sarsa(eps)\n",
    "        reward_Q[epi]+=tmp_reward_Q\n",
    "        reward_Sarsa[epi]+=tmp_reward_Sarsa\n",
    "\n",
    "for i in range(episodes):\n",
    "    reward_Q[i]/=iterations\n",
    "    reward_Sarsa[i]/=iterations"
   ]
  },
  {
   "cell_type": "code",
   "execution_count": null,
   "id": "2aef149f",
   "metadata": {},
   "outputs": [],
   "source": [
    "plt.plot(x,reward_Sarsa,label='Sarsa')\n",
    "plt.plot(x,reward_Q,label='Q')\n",
    "plt.legend()\n",
    "plt.xlabel(\"episodes\")\n",
    "plt.ylabel(\"reward\")\n",
    "plt.title(\"fixed ε\")"
   ]
  },
  {
   "cell_type": "code",
   "execution_count": null,
   "id": "ee2cd33b",
   "metadata": {},
   "outputs": [],
   "source": [
    "eps_2=[0.1,0.05,0.02,0.01,0]\n",
    "for iter in range(iterations):\n",
    "    A_Sarsa=[[0 for j in range(12)] for i in range(4)]\n",
    "    Q_Sarsa=[[[0 for k in range(4)] for j in range(12)] for i in range(4)]\n",
    "    A_Q=[[0 for j in range(12)] for i in range(4)]\n",
    "    Q_Q=[[[0 for k in range(4)] for j in range(12)] for i in range(4)]\n",
    "    for epi in range(episodes):\n",
    "        tmp_reward_Q=episode_Q(eps_2[epi/100])\n",
    "        tmp_reward_Sarsa=episode_Sarsa(eps_2[epi/100])\n",
    "        reward_Q[epi]+=tmp_reward_Q\n",
    "        reward_Sarsa[epi]+=tmp_reward_Sarsa\n",
    "\n",
    "for i in range(episodes):\n",
    "    reward_Q[i]/=iterations\n",
    "    reward_Sarsa[i]/=iterations"
   ]
  },
  {
   "cell_type": "code",
   "execution_count": null,
   "id": "f56baeb4",
   "metadata": {},
   "outputs": [],
   "source": [
    "plt.plot(x,reward_Sarsa,label='Sarsa')\n",
    "plt.plot(x,reward_Q,label='Q')\n",
    "plt.legend()\n",
    "plt.xlabel(\"episodes\")\n",
    "plt.ylabel(\"reward\")\n",
    "plt.title(\"decreasing ε\")"
   ]
  }
 ],
 "metadata": {
  "kernelspec": {
   "display_name": "Python 3 (ipykernel)",
   "language": "python",
   "name": "python3"
  },
  "language_info": {
   "codemirror_mode": {
    "name": "ipython",
    "version": 3
   },
   "file_extension": ".py",
   "mimetype": "text/x-python",
   "name": "python",
   "nbconvert_exporter": "python",
   "pygments_lexer": "ipython3",
   "version": "3.9.13"
  }
 },
 "nbformat": 4,
 "nbformat_minor": 5
}
