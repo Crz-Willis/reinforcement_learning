{
 "cells": [
  {
   "cell_type": "code",
   "execution_count": 8,
   "id": "4e061ff3",
   "metadata": {},
   "outputs": [],
   "source": [
    "import matplotlib.pyplot as plt\n",
    "import random\n",
    "\n",
    "import math"
   ]
  },
  {
   "cell_type": "code",
   "execution_count": 9,
   "id": "8504c119",
   "metadata": {},
   "outputs": [],
   "source": [
    "iterations=500\n",
    "R={}\n",
    "R[-1]=0\n",
    "R[0]=R[1]=R[2]=R[3]=R[4]=0\n",
    "R[5]=1\n",
    "error_MC=[]\n",
    "error_TD=[]\n",
    "episodes=100\n",
    "alpha=0.05"
   ]
  },
  {
   "cell_type": "code",
   "execution_count": 10,
   "id": "98992f51",
   "metadata": {},
   "outputs": [],
   "source": [
    "def calc_error(V):\n",
    "    correct=[1./6,2./6,3./6,4./6,5./6]\n",
    "    error=0.0\n",
    "    for i in range(5):\n",
    "        error+=(correct[i]-V[i])**2\n",
    "    return math.sqrt(error/5)"
   ]
  },
  {
   "cell_type": "code",
   "execution_count": 11,
   "id": "3547b9b6",
   "metadata": {},
   "outputs": [],
   "source": [
    "def episode_MC():\n",
    "    state=[]\n",
    "    pos=2\n",
    "    state.append(pos)\n",
    "    while True:\n",
    "        c=random.choice([-1,1])\n",
    "        pos=pos+c\n",
    "        if pos==-1 or pos==5:\n",
    "            return state,R[pos]\n",
    "        state.append(pos)"
   ]
  },
  {
   "cell_type": "code",
   "execution_count": 12,
   "id": "d21643de",
   "metadata": {},
   "outputs": [],
   "source": [
    "def episode_TD(V,alpha):\n",
    "    pos=2\n",
    "    state=[]\n",
    "    state.append(pos)\n",
    "    while True:\n",
    "        c=random.choice([-1,1])\n",
    "        r=R[pos+c]\n",
    "        s=pos+c\n",
    "        V[pos]+=alpha*(r+V[s]-V[pos])\n",
    "        pos=s\n",
    "        state.append(pos)\n",
    "        if pos==-1 or pos==5:\n",
    "            return V,state,R[pos]"
   ]
  },
  {
   "cell_type": "code",
   "execution_count": 13,
   "id": "2a891f6c",
   "metadata": {},
   "outputs": [],
   "source": [
    "def MC_update(V,reward,state,alpha):\n",
    "    appear={}\n",
    "    avail=[]\n",
    "    for i in range(len(state)):\n",
    "        if state[i] not in appear:\n",
    "            avail.append(1)\n",
    "        else:\n",
    "            avail.append(0)\n",
    "        appear[state[i]]=1\n",
    "    for i in range(len(state)-1,-1,-1):\n",
    "        if avail[i]:\n",
    "            V[state[i]]+=alpha*(reward-V[state[i]])\n",
    "    return V"
   ]
  },
  {
   "cell_type": "code",
   "execution_count": 14,
   "id": "6605f83a",
   "metadata": {},
   "outputs": [],
   "source": [
    "def TD_update(V,reward,state,alpha):\n",
    "    for i in range(len(state-1)):\n",
    "        V[state[i]]+=alpha*(reward-V[state[i+1]])\n",
    "    return V"
   ]
  },
  {
   "cell_type": "code",
   "execution_count": 15,
   "id": "dc821008",
   "metadata": {},
   "outputs": [],
   "source": [
    "V_MC={}\n",
    "V_MC[-1]=V_MC[5]=0 \n",
    "V_MC[0]=V_MC[1]=V_MC[2]=V_MC[3]=V_MC[4]=0.5"
   ]
  },
  {
   "cell_type": "code",
   "execution_count": null,
   "id": "18d90d92",
   "metadata": {},
   "outputs": [],
   "source": [
    "error_TD=[]\n",
    "for it in range(iterations):\n",
    "    episodes_TD=[]\n",
    "    rewards_TD=[]\n",
    "    V_TD={}\n",
    "    V_TD[-1]=V_TD[5]=0 #终止状态价值函数为0\n",
    "    V_TD[0]=V_TD[1]=V_TD[2]=V_TD[3]=V_TD[4]=0.5\n",
    "    for epi in range(episodes):\n",
    "        V_TD,"
   ]
  }
 ],
 "metadata": {
  "kernelspec": {
   "display_name": "Python 3 (ipykernel)",
   "language": "python",
   "name": "python3"
  },
  "language_info": {
   "codemirror_mode": {
    "name": "ipython",
    "version": 3
   },
   "file_extension": ".py",
   "mimetype": "text/x-python",
   "name": "python",
   "nbconvert_exporter": "python",
   "pygments_lexer": "ipython3",
   "version": "3.9.13"
  }
 },
 "nbformat": 4,
 "nbformat_minor": 5
}
