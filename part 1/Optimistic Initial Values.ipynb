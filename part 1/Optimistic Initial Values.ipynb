{
 "cells": [
  {
   "cell_type": "code",
   "execution_count": 1,
   "id": "4d27d02d",
   "metadata": {},
   "outputs": [],
   "source": [
    "import random \n",
    "import numpy as np\n",
    "import matplotlib.pyplot as plt"
   ]
  },
  {
   "cell_type": "code",
   "execution_count": 2,
   "id": "15476d79",
   "metadata": {},
   "outputs": [],
   "source": [
    "class k_arm_bandit:\n",
    "    def __init__(self,k,eps,r):\n",
    "        self.reward=list(np.random.randn(k)) #赌博机的平均收益值\n",
    "        self.right_oper=np.argmax(self.reward)\n",
    "        self.steps=0\n",
    "        self.k=k\n",
    "        \n",
    "        self.average_reward=[r]*k #当前轮次的每个动作的平均收益\n",
    "        self.oper_nums=[0]*k #当前轮次每个动作的操作次数\n",
    "        self.eps=eps        \n",
    "        \n",
    "        self.all_average_reward=[] #当前轮次的平均收益\n",
    "        self.all_reward=0\n",
    "        self.right_operations=[] #当前轮次正确操作的概率\n",
    "        self.right_operations_number=0\n",
    "    \n",
    "    def get_action(self):\n",
    "        x=random.random()\n",
    "        if x<self.eps:\n",
    "            return random.randint(0,self.k-1)\n",
    "        else:\n",
    "            max_operation=[]\n",
    "            max_value=max(self.average_reward)\n",
    "            for i in range(len(self.average_reward)):\n",
    "                if self.average_reward[i]==max_value:\n",
    "                    max_operation.append(i)\n",
    "            return random.choice(max_operation)\n",
    "        \n",
    "    def get_reward(self,oper_id):\n",
    "        return self.reward[oper_id]+np.random.standard_normal()\n",
    "        \n",
    "    def update_fixed_alpha(self,alpha=0.1):\n",
    "        A=self.get_action()\n",
    "        R=self.get_reward(A)\n",
    "        \n",
    "        self.oper_nums[A]+=1\n",
    "        self.average_reward[A]=self.average_reward[A]+alpha*(R-self.average_reward[A])\n",
    "        \n",
    "        self.steps+=1\n",
    "        self.all_reward+=R\n",
    "        if A==self.right_oper:\n",
    "            self.right_operations_number+=1\n",
    "        self.all_average_reward.append(self.all_reward/self.steps)\n",
    "        self.right_operations.append(self.right_operations_number/self.steps)"
   ]
  },
  {
   "cell_type": "code",
   "execution_count": 3,
   "id": "d7601690",
   "metadata": {},
   "outputs": [],
   "source": [
    "class epsilon_greedy_with_zero_initial:\n",
    "    def __init__(self,eps=0.1):\n",
    "        self.all_reward=[0]*1000\n",
    "        self.all_right_oper=[0]*1000\n",
    "        self.iter_num=2000\n",
    "        self.eps=eps\n",
    "        \n",
    "    def wk(self):\n",
    "        for iteration in range(self.iter_num):\n",
    "            bandit=k_arm_bandit(10,self.eps,0)\n",
    "            for steps in range(1000):\n",
    "                bandit.update_fixed_alpha()\n",
    "            for i in range(1000):\n",
    "                self.all_reward[i]+=bandit.all_average_reward[i]/self.iter_num\n",
    "                self.all_right_oper[i]+=bandit.right_operations[i]/self.iter_num*100\n",
    "            if((iteration+1)%100==0):\n",
    "                print(\"iter : {} done\".format(iteration+1))"
   ]
  },
  {
   "cell_type": "code",
   "execution_count": 4,
   "id": "8cdea7e1",
   "metadata": {},
   "outputs": [],
   "source": [
    "class epsilon_greedy_with_optimistic_initial:\n",
    "    def __init__(self,eps=0):\n",
    "        self.all_reward=[0]*1000\n",
    "        self.all_right_oper=[0]*1000\n",
    "        self.iter_num=2000\n",
    "        self.eps=eps\n",
    "        \n",
    "    def wk(self):\n",
    "        for iteration in range(self.iter_num):\n",
    "            bandit=k_arm_bandit(10,self.eps,5)\n",
    "            for steps in range(1000):\n",
    "                bandit.update_fixed_alpha()\n",
    "            for i in range(1000):\n",
    "                self.all_reward[i]+=bandit.all_average_reward[i]/self.iter_num\n",
    "                self.all_right_oper[i]+=bandit.right_operations[i]/self.iter_num*100\n",
    "            if((iteration+1)%100==0):\n",
    "                print(\"iter : {} done\".format(iteration+1))"
   ]
  },
  {
   "cell_type": "code",
   "execution_count": 5,
   "id": "fdd311cf",
   "metadata": {},
   "outputs": [
    {
     "name": "stdout",
     "output_type": "stream",
     "text": [
      "iter : 100 done\n",
      "iter : 200 done\n",
      "iter : 300 done\n",
      "iter : 400 done\n",
      "iter : 500 done\n",
      "iter : 600 done\n",
      "iter : 700 done\n",
      "iter : 800 done\n",
      "iter : 900 done\n",
      "iter : 1000 done\n",
      "iter : 1100 done\n",
      "iter : 1200 done\n",
      "iter : 1300 done\n",
      "iter : 1400 done\n",
      "iter : 1500 done\n",
      "iter : 1600 done\n",
      "iter : 1700 done\n",
      "iter : 1800 done\n",
      "iter : 1900 done\n",
      "iter : 2000 done\n"
     ]
    }
   ],
   "source": [
    "g1=epsilon_greedy_with_zero_initial()\n",
    "g1.wk()"
   ]
  },
  {
   "cell_type": "code",
   "execution_count": 6,
   "id": "86b9e5b6",
   "metadata": {},
   "outputs": [
    {
     "name": "stdout",
     "output_type": "stream",
     "text": [
      "iter : 100 done\n",
      "iter : 200 done\n",
      "iter : 300 done\n",
      "iter : 400 done\n",
      "iter : 500 done\n",
      "iter : 600 done\n",
      "iter : 700 done\n",
      "iter : 800 done\n",
      "iter : 900 done\n",
      "iter : 1000 done\n",
      "iter : 1100 done\n",
      "iter : 1200 done\n",
      "iter : 1300 done\n",
      "iter : 1400 done\n",
      "iter : 1500 done\n",
      "iter : 1600 done\n",
      "iter : 1700 done\n",
      "iter : 1800 done\n",
      "iter : 1900 done\n",
      "iter : 2000 done\n"
     ]
    }
   ],
   "source": [
    "g2=epsilon_greedy_with_optimistic_initial()\n",
    "g2.wk()"
   ]
  },
  {
   "cell_type": "code",
   "execution_count": 7,
   "id": "4aab13e0",
   "metadata": {},
   "outputs": [],
   "source": [
    "x=[i for i in range(1,1001)]"
   ]
  },
  {
   "cell_type": "code",
   "execution_count": 8,
   "id": "495c576c",
   "metadata": {},
   "outputs": [
    {
     "data": {
      "text/plain": [
       "<matplotlib.legend.Legend at 0x1e91809fdc0>"
      ]
     },
     "execution_count": 8,
     "metadata": {},
     "output_type": "execute_result"
    },
    {
     "data": {
      "image/png": "[encoded data removed]",
      "text/plain": [
       "<Figure size 432x288 with 1 Axes>"
      ]
     },
     "metadata": {
      "needs_background": "light"
     },
     "output_type": "display_data"
    }
   ],
   "source": [
    "plt.plot(x,g1.all_right_oper,label=\"zero initial\")\n",
    "plt.plot(x,g2.all_right_oper,label=\"optimistic initial\")\n",
    "plt.xlabel(\"steps\")\n",
    "plt.ylabel(\"percentage\")\n",
    "plt.title(\"% of best operations\")\n",
    "plt.legend()"
   ]
  },
  {
   "cell_type": "code",
   "execution_count": 9,
   "id": "08d93fd9",
   "metadata": {},
   "outputs": [
    {
     "data": {
      "text/plain": [
       "Text(0.5, 1.0, 'average reward')"
      ]
     },
     "execution_count": 9,
     "metadata": {},
     "output_type": "execute_result"
    },
    {
     "data": {
      "image/png": "[encoded data removed]",
      "text/plain": [
       "<Figure size 432x288 with 1 Axes>"
      ]
     },
     "metadata": {
      "needs_background": "light"
     },
     "output_type": "display_data"
    }
   ],
   "source": [
    "plt.plot(x,g1.all_reward,label=\"zero initial\")\n",
    "plt.plot(x,g2.all_reward,label=\"optimistic initial\")\n",
    "plt.ylabel(\"reward\")\n",
    "plt.xlabel(\"steps\")\n",
    "plt.legend()\n",
    "plt.title(\"average reward\")"
   ]
  },
  {
   "cell_type": "code",
   "execution_count": null,
   "id": "9b1ecc1b",
   "metadata": {},
   "outputs": [],
   "source": []
  }
 ],
 "metadata": {
  "kernelspec": {
   "display_name": "Python 3 (ipykernel)",
   "language": "python",
   "name": "python3"
  },
  "language_info": {
   "codemirror_mode": {
    "name": "ipython",
    "version": 3
   },
   "file_extension": ".py",
   "mimetype": "text/x-python",
   "name": "python",
   "nbconvert_exporter": "python",
   "pygments_lexer": "ipython3",
   "version": "3.9.12"
  }
 },
 "nbformat": 4,
 "nbformat_minor": 5
}
