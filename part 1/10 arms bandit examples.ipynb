{
 "cells": [
  {
   "cell_type": "code",
   "execution_count": 1,
   "id": "737383f9",
   "metadata": {},
   "outputs": [],
   "source": [
    "import random \n",
    "import numpy as np\n",
    "import matplotlib.pyplot as plt"
   ]
  },
  {
   "cell_type": "code",
   "execution_count": 2,
   "id": "a1cf29d7",
   "metadata": {},
   "outputs": [],
   "source": [
    "class k_arm_bandit:\n",
    "    def __init__(self,k,eps):\n",
    "        self.reward=list(np.random.randn(k)) #赌博机的平均收益值\n",
    "        self.right_oper=np.argmax(self.reward)\n",
    "        self.steps=0\n",
    "        self.k=k\n",
    "        \n",
    "        self.average_reward=[0]*k #当前轮次的每个动作的平均收益\n",
    "        self.oper_nums=[0]*k #当前轮次每个动作的操作次数\n",
    "        self.eps=eps        \n",
    "        \n",
    "        self.all_average_reward=[] #当前轮次的平均收益\n",
    "        self.all_reward=0\n",
    "        self.right_operations=[] #当前轮次正确操作的概率\n",
    "        self.right_operations_number=0\n",
    "    \n",
    "    def get_action(self):\n",
    "        x=random.random()\n",
    "        if x<self.eps:\n",
    "            return random.randint(0,self.k-1)\n",
    "        else:\n",
    "            max_operation=[]\n",
    "            max_value=max(self.average_reward)\n",
    "            for i in range(len(self.average_reward)):\n",
    "                if self.average_reward[i]==max_value:\n",
    "                    max_operation.append(i)\n",
    "            return random.choice(max_operation)\n",
    "        \n",
    "    def get_reward(self,oper_id):\n",
    "        return self.reward[oper_id]+np.random.standard_normal()\n",
    "    \n",
    "    def update(self):\n",
    "        A=self.get_action()\n",
    "        R=self.get_reward(A)\n",
    "        \n",
    "        self.oper_nums[A]+=1\n",
    "        self.average_reward[A]=self.average_reward[A]+1.0/self.oper_nums[A]*(R-self.average_reward[A])\n",
    "        \n",
    "        self.steps+=1\n",
    "        self.all_reward+=R\n",
    "        if A==self.right_oper:\n",
    "            self.right_operations_number+=1\n",
    "        self.all_average_reward.append(self.all_reward/self.steps)\n",
    "        self.right_operations.append(self.right_operations_number/self.steps)"
   ]
  },
  {
   "cell_type": "code",
   "execution_count": 3,
   "id": "1c96a00d",
   "metadata": {},
   "outputs": [],
   "source": [
    "class greedy:\n",
    "    def __init__(self):\n",
    "        self.all_reward=[0]*5000\n",
    "        self.all_right_oper=[0]*5000\n",
    "        self.iter_num=2000\n",
    "    \n",
    "    def wk(self):\n",
    "        for iteration in range(self.iter_num):\n",
    "            bandit=k_arm_bandit(10,0)\n",
    "            for steps in range(5000):\n",
    "                bandit.update()\n",
    "            for i in range(5000):\n",
    "                self.all_reward[i]+=bandit.all_average_reward[i]/self.iter_num\n",
    "                self.all_right_oper[i]+=bandit.right_operations[i]/self.iter_num*100"
   ]
  },
  {
   "cell_type": "code",
   "execution_count": 4,
   "id": "7f2eb7c2",
   "metadata": {},
   "outputs": [],
   "source": [
    "class epsilon_greedy:\n",
    "    def __init__(self,eps):\n",
    "        self.all_reward=[0]*5000\n",
    "        self.all_right_oper=[0]*5000\n",
    "        self.iter_num=2000\n",
    "        self.eps=eps\n",
    "        \n",
    "    def wk(self):\n",
    "        for iteration in range(self.iter_num):\n",
    "            bandit=k_arm_bandit(10,self.eps)\n",
    "            for steps in range(5000):\n",
    "                bandit.update()\n",
    "            for i in range(5000):\n",
    "                self.all_reward[i]+=bandit.all_average_reward[i]/self.iter_num\n",
    "                self.all_right_oper[i]+=bandit.right_operations[i]/self.iter_num*100"
   ]
  },
  {
   "cell_type": "code",
   "execution_count": 5,
   "id": "c8b57852",
   "metadata": {},
   "outputs": [
    {
     "name": "stdout",
     "output_type": "stream",
     "text": [
      "done 1/4\n",
      "done 2/4\n",
      "done 3/4\n",
      "done\n"
     ]
    }
   ],
   "source": [
    "g1=greedy()\n",
    "g1.wk()\n",
    "print(\"done 1/4\")\n",
    "g2=epsilon_greedy(0.1)\n",
    "g2.wk()\n",
    "print(\"done 2/4\")\n",
    "g3=epsilon_greedy(0.01)\n",
    "g3.wk()\n",
    "print(\"done 3/4\")\n",
    "g4=epsilon_greedy(0.005)\n",
    "g4.wk()\n",
    "print(\"done\")"
   ]
  },
  {
   "cell_type": "code",
   "execution_count": 6,
   "id": "f067d9b6",
   "metadata": {},
   "outputs": [],
   "source": [
    "x=[]\n",
    "for i in range(1,5001):\n",
    "    x.append(i)"
   ]
  },
  {
   "cell_type": "code",
   "execution_count": 7,
   "id": "a61ba9d0",
   "metadata": {},
   "outputs": [
    {
     "data": {
      "text/plain": [
       "Text(0.5, 1.0, 'average reward')"
      ]
     },
     "execution_count": 7,
     "metadata": {},
     "output_type": "execute_result"
    },
    {
     "data": {
      "image/png": "[encoded data removed]",
      "text/plain": [
       "<Figure size 432x288 with 1 Axes>"
      ]
     },
     "metadata": {
      "needs_background": "light"
     },
     "output_type": "display_data"
    }
   ],
   "source": [
    "plt.plot(x,g1.all_reward,label='ε=0')\n",
    "plt.plot(x,g2.all_reward,label='ε=0.1')\n",
    "plt.plot(x,g3.all_reward,label='ε=0.01')\n",
    "plt.plot(x,g4.all_reward,label='ε=0.005')\n",
    "plt.ylabel(\"reward\")\n",
    "plt.xlabel(\"steps\")\n",
    "plt.legend()\n",
    "plt.title(\"average reward\")"
   ]
  },
  {
   "cell_type": "code",
   "execution_count": 8,
   "id": "74778e34",
   "metadata": {},
   "outputs": [
    {
     "data": {
      "text/plain": [
       "Text(0.5, 1.0, '% of best operations')"
      ]
     },
     "execution_count": 8,
     "metadata": {},
     "output_type": "execute_result"
    },
    {
     "data": {
      "image/png": "[encoded data removed]",
      "text/plain": [
       "<Figure size 432x288 with 1 Axes>"
      ]
     },
     "metadata": {
      "needs_background": "light"
     },
     "output_type": "display_data"
    }
   ],
   "source": [
    "plt.plot(x,g1.all_right_oper,label='ε=0')\n",
    "plt.plot(x,g2.all_right_oper,label='ε=0.1')\n",
    "plt.plot(x,g3.all_right_oper,label='ε=0.01')\n",
    "plt.plot(x,g4.all_right_oper,label='ε=0.005')\n",
    "plt.ylabel(\"percentage\")\n",
    "plt.xlabel(\"steps\")\n",
    "plt.legend()\n",
    "plt.title(\"% of best operations\")"
   ]
  },
  {
   "cell_type": "code",
   "execution_count": null,
   "id": "f3f8a64b",
   "metadata": {},
   "outputs": [],
   "source": []
  }
 ],
 "metadata": {
  "kernelspec": {
   "display_name": "Python 3 (ipykernel)",
   "language": "python",
   "name": "python3"
  },
  "language_info": {
   "codemirror_mode": {
    "name": "ipython",
    "version": 3
   },
   "file_extension": ".py",
   "mimetype": "text/x-python",
   "name": "python",
   "nbconvert_exporter": "python",
   "pygments_lexer": "ipython3",
   "version": "3.9.12"
  },
  "vscode": {
   "interpreter": {
    "hash": "2b6df7cf41d04b4352251550ab8bf6fcc592656e33d384076720ed457ed8d9cd"
   }
  }
 },
 "nbformat": 4,
 "nbformat_minor": 5
}
