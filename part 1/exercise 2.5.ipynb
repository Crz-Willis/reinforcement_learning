{
 "cells": [
  {
   "cell_type": "code",
   "execution_count": 3,
   "id": "57950116",
   "metadata": {},
   "outputs": [],
   "source": [
    "import random \n",
    "import numpy as np\n",
    "import matplotlib.pyplot as plt"
   ]
  },
  {
   "cell_type": "code",
   "execution_count": 4,
   "id": "79e7c97c",
   "metadata": {},
   "outputs": [],
   "source": [
    "class k_arm_bandit:\n",
    "    def __init__(self,k,eps):\n",
    "        self.reward=[1]*10 #赌博机的平均收益值\n",
    "        self.steps=0\n",
    "        self.k=k\n",
    "        \n",
    "        self.average_reward=[0]*k #当前轮次的每个动作的平均收益\n",
    "        self.oper_nums=[0]*k #当前轮次每个动作的操作次数\n",
    "        self.eps=eps        \n",
    "        \n",
    "        self.all_average_reward=[] #当前轮次的平均收益\n",
    "        self.all_reward=0\n",
    "        self.right_operations=[] #当前轮次正确操作的概率\n",
    "        self.right_operations_number=0\n",
    "    \n",
    "    def get_action(self):\n",
    "        x=random.random()\n",
    "        if x<self.eps:\n",
    "            return random.randint(0,self.k-1)\n",
    "        else:\n",
    "            max_operation=[]\n",
    "            max_value=max(self.average_reward)\n",
    "            for i in range(len(self.average_reward)):\n",
    "                if self.average_reward[i]==max_value:\n",
    "                    max_operation.append(i)\n",
    "            return random.choice(max_operation)\n",
    "        \n",
    "    def get_reward(self,oper_id):\n",
    "        return self.reward[oper_id]+np.random.standard_normal()\n",
    "    \n",
    "    def update_average(self):\n",
    "        for i in range(10):\n",
    "            self.reward[i]+=np.random.normal(loc=0,scale=0.01)\n",
    "        A=self.get_action()\n",
    "        R=self.get_reward(A)\n",
    "        \n",
    "        right_oper=np.argmax(self.reward)\n",
    "        self.oper_nums[A]+=1\n",
    "        self.average_reward[A]=self.average_reward[A]+1.0/self.oper_nums[A]*(R-self.average_reward[A])\n",
    "        \n",
    "       \n",
    "        self.steps+=1\n",
    "        self.all_reward+=R\n",
    "        if A==right_oper:\n",
    "            self.right_operations_number+=1\n",
    "        self.all_average_reward.append(self.all_reward/self.steps)\n",
    "        self.right_operations.append(self.right_operations_number/self.steps)\n",
    "        \n",
    "    def update_fixed_alpha(self,alpha=0.1):\n",
    "        for i in range(10):\n",
    "            self.reward[i]+=np.random.normal(loc=0,scale=0.01)\n",
    "        A=self.get_action()\n",
    "        R=self.get_reward(A)\n",
    "        \n",
    "        right_oper=np.argmax(self.reward)\n",
    "        self.oper_nums[A]+=1\n",
    "        self.average_reward[A]=self.average_reward[A]+alpha*(R-self.average_reward[A])\n",
    "        \n",
    "       \n",
    "        self.steps+=1\n",
    "        self.all_reward+=R\n",
    "        if A==right_oper:\n",
    "            self.right_operations_number+=1\n",
    "        self.all_average_reward.append(self.all_reward/self.steps)\n",
    "        self.right_operations.append(self.right_operations_number/self.steps)"
   ]
  },
  {
   "cell_type": "code",
   "execution_count": 5,
   "id": "ca58a887",
   "metadata": {},
   "outputs": [],
   "source": [
    "class average:\n",
    "    def __init__(self):\n",
    "        self.all_reward=[0]*50000\n",
    "        self.all_right_oper=[0]*50000\n",
    "        self.iter_num=500\n",
    "    \n",
    "    def wk(self):\n",
    "        for iteration in range(self.iter_num):\n",
    "            bandit=k_arm_bandit(10,0.1)\n",
    "            for steps in range(50000):\n",
    "                bandit.update_average()\n",
    "            for i in range(50000):\n",
    "                self.all_reward[i]+=bandit.all_average_reward[i]\n",
    "                self.all_right_oper[i]+=bandit.right_operations[i]\n",
    "            if iteration%10==9:\n",
    "                print(\"iter {} done\".format(iteration+1))\n",
    "        for i in range(50000):\n",
    "            self.all_reward[i]/=self.iter_num\n",
    "            self.all_right_oper[i]/=self.iter_num\n",
    "            self.all_right_oper[i]*=100"
   ]
  },
  {
   "cell_type": "code",
   "execution_count": 6,
   "id": "8b811bbd",
   "metadata": {},
   "outputs": [],
   "source": [
    "class fixed_alpha:\n",
    "    def __init__(self):\n",
    "        self.all_reward=[0]*50000\n",
    "        self.all_right_oper=[0]*50000\n",
    "        self.iter_num=500\n",
    "    \n",
    "    def wk(self):\n",
    "        for iteration in range(self.iter_num):\n",
    "            bandit=k_arm_bandit(10,0.1)\n",
    "            for steps in range(50000):\n",
    "                bandit.update_fixed_alpha()\n",
    "            for i in range(50000):\n",
    "                self.all_reward[i]+=bandit.all_average_reward[i]\n",
    "                self.all_right_oper[i]+=bandit.right_operations[i]\n",
    "            if iteration%10==9:\n",
    "                print(\"iter {} done\".format(iteration+1))\n",
    "        for i in range(50000):\n",
    "            self.all_reward[i]/=self.iter_num\n",
    "            self.all_right_oper[i]/=self.iter_num\n",
    "            self.all_right_oper[i]*=100"
   ]
  },
  {
   "cell_type": "code",
   "execution_count": 7,
   "id": "c4977ce9",
   "metadata": {},
   "outputs": [
    {
     "name": "stdout",
     "output_type": "stream",
     "text": [
      "iter 10 done\n",
      "iter 20 done\n",
      "iter 30 done\n",
      "iter 40 done\n",
      "iter 50 done\n",
      "iter 60 done\n",
      "iter 70 done\n",
      "iter 80 done\n",
      "iter 90 done\n",
      "iter 100 done\n",
      "iter 110 done\n",
      "iter 120 done\n",
      "iter 130 done\n",
      "iter 140 done\n",
      "iter 150 done\n",
      "iter 160 done\n",
      "iter 170 done\n",
      "iter 180 done\n",
      "iter 190 done\n",
      "iter 200 done\n",
      "iter 210 done\n",
      "iter 220 done\n",
      "iter 230 done\n",
      "iter 240 done\n",
      "iter 250 done\n",
      "iter 260 done\n",
      "iter 270 done\n",
      "iter 280 done\n",
      "iter 290 done\n",
      "iter 300 done\n",
      "iter 310 done\n",
      "iter 320 done\n",
      "iter 330 done\n",
      "iter 340 done\n",
      "iter 350 done\n",
      "iter 360 done\n",
      "iter 370 done\n",
      "iter 380 done\n",
      "iter 390 done\n",
      "iter 400 done\n",
      "iter 410 done\n",
      "iter 420 done\n",
      "iter 430 done\n",
      "iter 440 done\n",
      "iter 450 done\n",
      "iter 460 done\n",
      "iter 470 done\n",
      "iter 480 done\n",
      "iter 490 done\n",
      "iter 500 done\n"
     ]
    }
   ],
   "source": [
    "g1=average()\n",
    "g1.wk()"
   ]
  },
  {
   "cell_type": "code",
   "execution_count": 8,
   "id": "3c9d1de4",
   "metadata": {},
   "outputs": [
    {
     "name": "stdout",
     "output_type": "stream",
     "text": [
      "iter 10 done\n",
      "iter 20 done\n",
      "iter 30 done\n",
      "iter 40 done\n",
      "iter 50 done\n",
      "iter 60 done\n",
      "iter 70 done\n",
      "iter 80 done\n",
      "iter 90 done\n",
      "iter 100 done\n",
      "iter 110 done\n",
      "iter 120 done\n",
      "iter 130 done\n",
      "iter 140 done\n",
      "iter 150 done\n",
      "iter 160 done\n",
      "iter 170 done\n",
      "iter 180 done\n",
      "iter 190 done\n",
      "iter 200 done\n",
      "iter 210 done\n",
      "iter 220 done\n",
      "iter 230 done\n",
      "iter 240 done\n",
      "iter 250 done\n",
      "iter 260 done\n",
      "iter 270 done\n",
      "iter 280 done\n",
      "iter 290 done\n",
      "iter 300 done\n",
      "iter 310 done\n",
      "iter 320 done\n",
      "iter 330 done\n",
      "iter 340 done\n",
      "iter 350 done\n",
      "iter 360 done\n",
      "iter 370 done\n",
      "iter 380 done\n",
      "iter 390 done\n",
      "iter 400 done\n",
      "iter 410 done\n",
      "iter 420 done\n",
      "iter 430 done\n",
      "iter 440 done\n",
      "iter 450 done\n",
      "iter 460 done\n",
      "iter 470 done\n",
      "iter 480 done\n",
      "iter 490 done\n",
      "iter 500 done\n"
     ]
    }
   ],
   "source": [
    "g2=fixed_alpha()\n",
    "g2.wk()"
   ]
  },
  {
   "cell_type": "code",
   "execution_count": 9,
   "id": "a7b734f2",
   "metadata": {},
   "outputs": [
    {
     "data": {
      "text/plain": [
       "<matplotlib.legend.Legend at 0x2243510e310>"
      ]
     },
     "execution_count": 9,
     "metadata": {},
     "output_type": "execute_result"
    },
    {
     "data": {
      "image/png": "[encoded data removed]",
      "text/plain": [
       "<Figure size 432x288 with 1 Axes>"
      ]
     },
     "metadata": {
      "needs_background": "light"
     },
     "output_type": "display_data"
    }
   ],
   "source": [
    "x=[]\n",
    "for i in range(1,50001):\n",
    "    x.append(i)\n",
    "    \n",
    "plt.plot(x,g1.all_right_oper,label='average method')\n",
    "plt.plot(x,g2.all_right_oper,label='fixed alpha method')\n",
    "plt.xlabel('steps')\n",
    "plt.ylabel('percentage')\n",
    "plt.title(\"% of best operations\")\n",
    "plt.legend()"
   ]
  },
  {
   "cell_type": "code",
   "execution_count": 10,
   "id": "bf78f051",
   "metadata": {},
   "outputs": [
    {
     "data": {
      "text/plain": [
       "<matplotlib.legend.Legend at 0x224371b5f70>"
      ]
     },
     "execution_count": 10,
     "metadata": {},
     "output_type": "execute_result"
    },
    {
     "data": {
      "image/png": "[encoded data removed]",
      "text/plain": [
       "<Figure size 432x288 with 1 Axes>"
      ]
     },
     "metadata": {
      "needs_background": "light"
     },
     "output_type": "display_data"
    }
   ],
   "source": [
    "plt.plot(x,g1.all_reward,label='average method')\n",
    "plt.plot(x,g2.all_reward,label='fixed alpha method')\n",
    "plt.xlabel('steps')\n",
    "plt.ylabel('reward')\n",
    "plt.title(\"average reward\")\n",
    "plt.legend()"
   ]
  },
  {
   "cell_type": "code",
   "execution_count": null,
   "id": "ab1dc633",
   "metadata": {},
   "outputs": [],
   "source": []
  }
 ],
 "metadata": {
  "kernelspec": {
   "display_name": "Python 3 (ipykernel)",
   "language": "python",
   "name": "python3"
  },
  "language_info": {
   "codemirror_mode": {
    "name": "ipython",
    "version": 3
   },
   "file_extension": ".py",
   "mimetype": "text/x-python",
   "name": "python",
   "nbconvert_exporter": "python",
   "pygments_lexer": "ipython3",
   "version": "3.9.12"
  }
 },
 "nbformat": 4,
 "nbformat_minor": 5
}
