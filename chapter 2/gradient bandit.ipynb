{
 "cells": [
  {
   "cell_type": "code",
   "execution_count": 11,
   "id": "3c540784",
   "metadata": {},
   "outputs": [],
   "source": [
    "import random \n",
    "import numpy as np\n",
    "import matplotlib.pyplot as plt\n",
    "import math"
   ]
  },
  {
   "cell_type": "code",
   "execution_count": 12,
   "id": "2ec70245",
   "metadata": {},
   "outputs": [],
   "source": [
    "class k_arm_bandit:\n",
    "    def __init__(self,k,alpha,flag):\n",
    "        self.reward=list(np.random.normal(loc=4,scale=1,size=10)) #赌博机的平均收益值\n",
    "        self.right_oper=np.argmax(self.reward)\n",
    "        self.steps=0\n",
    "        self.k=k\n",
    "        self.flag=flag\n",
    "        \n",
    "        self.average_reward=0 #当前轮次的每个动作的平均收益\n",
    "        self.H=[0]*k #当前轮次每个动作的操作次数\n",
    "        self.alpha=alpha\n",
    "        \n",
    "        self.all_average_reward=[] #当前轮次的平均收益\n",
    "        self.all_reward=0\n",
    "        self.right_operations=[] #当前轮次正确操作的概率\n",
    "        self.right_operations_number=0\n",
    "    \n",
    "    def get_action(self,pi):\n",
    "        pii=[]\n",
    "        pii.append(0)\n",
    "        for i in range(self.k):\n",
    "            pii.append(pi[i])\n",
    "            if i!=0:\n",
    "                pii[i+1]=pii[i]+pii[i+1]\n",
    "        x=random.random()\n",
    "        for i in range(self.k):\n",
    "            if x>=pii[i] and x<=pii[i+1]:\n",
    "                return i\n",
    "        \n",
    "    def get_reward(self,oper_id):\n",
    "        return np.random.normal(loc=self.reward[oper_id],scale=1)\n",
    "    \n",
    "    def update(self):\n",
    "        pi=[]\n",
    "        s=np.sum(np.exp(self.H))\n",
    "        for i in range(self.k):\n",
    "            pi.append(math.exp(self.H[i])/s)\n",
    "        A=self.get_action(pi)\n",
    "        R=self.get_reward(A)\n",
    "        \n",
    "        for i in range(self.k):\n",
    "            if self.flag: #包含基准项\n",
    "                if i==A:\n",
    "                    self.H[i]+=self.alpha*(R-self.average_reward)*(1-pi[i])\n",
    "                else:\n",
    "                    self.H[i]-=self.alpha*(R-self.average_reward)*pi[i]\n",
    "            else: #不包含基准项\n",
    "                if i==A:\n",
    "                    self.H[i]+=self.alpha*(R)*(1-pi[i])\n",
    "                else:\n",
    "                    self.H[i]-=self.alpha*(R)*pi[i]\n",
    "        \n",
    "        self.steps+=1\n",
    "        self.average_reward=self.average_reward+1.0/self.steps*(R-self.average_reward)\n",
    "        \n",
    "        self.all_reward+=R\n",
    "        if A==self.right_oper:\n",
    "            self.right_operations_number+=1\n",
    "        self.all_average_reward.append(self.all_reward/self.steps)\n",
    "        self.right_operations.append(self.right_operations_number/self.steps)"
   ]
  },
  {
   "cell_type": "code",
   "execution_count": 13,
   "id": "f862ef2e",
   "metadata": {},
   "outputs": [],
   "source": [
    "class gradient:\n",
    "    def __init__(self,alpha,flag):\n",
    "        self.all_reward=[0]*5000\n",
    "        self.all_right_oper=[0]*5000\n",
    "        self.iter_num=2000\n",
    "        self.alpha=alpha\n",
    "        self.flag=flag\n",
    "        \n",
    "    def wk(self):\n",
    "        for iteration in range(self.iter_num):\n",
    "            bandit=k_arm_bandit(10,self.alpha,self.flag) #flag=True:包含基准项，反之不包含基准项\n",
    "            for steps in range(5000):\n",
    "                bandit.update()\n",
    "            for i in range(5000):\n",
    "                self.all_reward[i]+=bandit.all_average_reward[i]/self.iter_num\n",
    "                self.all_right_oper[i]+=bandit.right_operations[i]/self.iter_num*100\n",
    "            if (iteration+1)%50==0:\n",
    "                print(\"iter : {} done\".format(iteration+1))"
   ]
  },
  {
   "cell_type": "code",
   "execution_count": 14,
   "id": "84d81b19",
   "metadata": {},
   "outputs": [
    {
     "name": "stdout",
     "output_type": "stream",
     "text": [
      "iter : 50 done\n",
      "iter : 100 done\n",
      "iter : 150 done\n",
      "iter : 200 done\n",
      "iter : 250 done\n",
      "iter : 300 done\n",
      "iter : 350 done\n",
      "iter : 400 done\n",
      "iter : 450 done\n",
      "iter : 500 done\n",
      "iter : 550 done\n",
      "iter : 600 done\n",
      "iter : 650 done\n",
      "iter : 700 done\n",
      "iter : 750 done\n",
      "iter : 800 done\n",
      "iter : 850 done\n",
      "iter : 900 done\n",
      "iter : 950 done\n",
      "iter : 1000 done\n",
      "iter : 1050 done\n",
      "iter : 1100 done\n",
      "iter : 1150 done\n",
      "iter : 1200 done\n",
      "iter : 1250 done\n",
      "iter : 1300 done\n",
      "iter : 1350 done\n",
      "iter : 1400 done\n",
      "iter : 1450 done\n",
      "iter : 1500 done\n",
      "iter : 1550 done\n",
      "iter : 1600 done\n",
      "iter : 1650 done\n",
      "iter : 1700 done\n",
      "iter : 1750 done\n",
      "iter : 1800 done\n",
      "iter : 1850 done\n",
      "iter : 1900 done\n",
      "iter : 1950 done\n",
      "iter : 2000 done\n"
     ]
    }
   ],
   "source": [
    "g1=gradient(0.1,True)\n",
    "g1.wk()"
   ]
  },
  {
   "cell_type": "code",
   "execution_count": 15,
   "id": "47a5238e",
   "metadata": {},
   "outputs": [
    {
     "name": "stdout",
     "output_type": "stream",
     "text": [
      "iter : 50 done\n",
      "iter : 100 done\n",
      "iter : 150 done\n",
      "iter : 200 done\n",
      "iter : 250 done\n",
      "iter : 300 done\n",
      "iter : 350 done\n",
      "iter : 400 done\n",
      "iter : 450 done\n",
      "iter : 500 done\n",
      "iter : 550 done\n",
      "iter : 600 done\n",
      "iter : 650 done\n",
      "iter : 700 done\n",
      "iter : 750 done\n",
      "iter : 800 done\n",
      "iter : 850 done\n",
      "iter : 900 done\n",
      "iter : 950 done\n",
      "iter : 1000 done\n",
      "iter : 1050 done\n",
      "iter : 1100 done\n",
      "iter : 1150 done\n",
      "iter : 1200 done\n",
      "iter : 1250 done\n",
      "iter : 1300 done\n",
      "iter : 1350 done\n",
      "iter : 1400 done\n",
      "iter : 1450 done\n",
      "iter : 1500 done\n",
      "iter : 1550 done\n",
      "iter : 1600 done\n",
      "iter : 1650 done\n",
      "iter : 1700 done\n",
      "iter : 1750 done\n",
      "iter : 1800 done\n",
      "iter : 1850 done\n",
      "iter : 1900 done\n",
      "iter : 1950 done\n",
      "iter : 2000 done\n"
     ]
    }
   ],
   "source": [
    "g2=gradient(0.4,True)\n",
    "g2.wk()"
   ]
  },
  {
   "cell_type": "code",
   "execution_count": 16,
   "id": "df331425",
   "metadata": {},
   "outputs": [
    {
     "name": "stdout",
     "output_type": "stream",
     "text": [
      "iter : 50 done\n",
      "iter : 100 done\n",
      "iter : 150 done\n",
      "iter : 200 done\n",
      "iter : 250 done\n",
      "iter : 300 done\n",
      "iter : 350 done\n",
      "iter : 400 done\n",
      "iter : 450 done\n",
      "iter : 500 done\n",
      "iter : 550 done\n",
      "iter : 600 done\n",
      "iter : 650 done\n",
      "iter : 700 done\n",
      "iter : 750 done\n",
      "iter : 800 done\n",
      "iter : 850 done\n",
      "iter : 900 done\n",
      "iter : 950 done\n",
      "iter : 1000 done\n",
      "iter : 1050 done\n",
      "iter : 1100 done\n",
      "iter : 1150 done\n",
      "iter : 1200 done\n",
      "iter : 1250 done\n",
      "iter : 1300 done\n",
      "iter : 1350 done\n",
      "iter : 1400 done\n",
      "iter : 1450 done\n",
      "iter : 1500 done\n",
      "iter : 1550 done\n",
      "iter : 1600 done\n",
      "iter : 1650 done\n",
      "iter : 1700 done\n",
      "iter : 1750 done\n",
      "iter : 1800 done\n",
      "iter : 1850 done\n",
      "iter : 1900 done\n",
      "iter : 1950 done\n",
      "iter : 2000 done\n"
     ]
    }
   ],
   "source": [
    "g3=gradient(0.1,False)\n",
    "g3.wk()"
   ]
  },
  {
   "cell_type": "code",
   "execution_count": 17,
   "id": "bf99e402",
   "metadata": {},
   "outputs": [
    {
     "name": "stdout",
     "output_type": "stream",
     "text": [
      "iter : 50 done\n",
      "iter : 100 done\n",
      "iter : 150 done\n",
      "iter : 200 done\n",
      "iter : 250 done\n",
      "iter : 300 done\n",
      "iter : 350 done\n",
      "iter : 400 done\n",
      "iter : 450 done\n",
      "iter : 500 done\n",
      "iter : 550 done\n",
      "iter : 600 done\n",
      "iter : 650 done\n",
      "iter : 700 done\n",
      "iter : 750 done\n",
      "iter : 800 done\n",
      "iter : 850 done\n",
      "iter : 900 done\n",
      "iter : 950 done\n",
      "iter : 1000 done\n",
      "iter : 1050 done\n",
      "iter : 1100 done\n",
      "iter : 1150 done\n",
      "iter : 1200 done\n",
      "iter : 1250 done\n",
      "iter : 1300 done\n",
      "iter : 1350 done\n",
      "iter : 1400 done\n",
      "iter : 1450 done\n",
      "iter : 1500 done\n",
      "iter : 1550 done\n",
      "iter : 1600 done\n",
      "iter : 1650 done\n",
      "iter : 1700 done\n",
      "iter : 1750 done\n",
      "iter : 1800 done\n",
      "iter : 1850 done\n",
      "iter : 1900 done\n",
      "iter : 1950 done\n",
      "iter : 2000 done\n"
     ]
    }
   ],
   "source": [
    "g4=gradient(0.4,False)\n",
    "g4.wk()"
   ]
  },
  {
   "cell_type": "code",
   "execution_count": 19,
   "id": "4a5f45f2",
   "metadata": {},
   "outputs": [
    {
     "data": {
      "text/plain": [
       "<matplotlib.legend.Legend at 0x22f65210ee0>"
      ]
     },
     "execution_count": 19,
     "metadata": {},
     "output_type": "execute_result"
    },
    {
     "data": {
      "image/png": "[encoded data removed]",
      "text/plain": [
       "<Figure size 432x288 with 1 Axes>"
      ]
     },
     "metadata": {
      "needs_background": "light"
     },
     "output_type": "display_data"
    }
   ],
   "source": [
    "x=[i for i in range(1,5001)]\n",
    "plt.plot(x,g1.all_right_oper,label='α=0.1, with baseline')\n",
    "plt.plot(x,g2.all_right_oper,label='α=0.4, with baseline')\n",
    "plt.plot(x,g3.all_right_oper,label='α=0.1, no baseline')\n",
    "plt.plot(x,g4.all_right_oper,label='α=0.4, no baseline')\n",
    "plt.xlabel('steps')\n",
    "plt.ylabel('percentage')\n",
    "plt.title(\"% of best operations\")\n",
    "plt.legend()"
   ]
  },
  {
   "cell_type": "code",
   "execution_count": null,
   "id": "8ff3485d",
   "metadata": {},
   "outputs": [],
   "source": []
  }
 ],
 "metadata": {
  "kernelspec": {
   "display_name": "Python 3 (ipykernel)",
   "language": "python",
   "name": "python3"
  },
  "language_info": {
   "codemirror_mode": {
    "name": "ipython",
    "version": 3
   },
   "file_extension": ".py",
   "mimetype": "text/x-python",
   "name": "python",
   "nbconvert_exporter": "python",
   "pygments_lexer": "ipython3",
   "version": "3.9.12"
  }
 },
 "nbformat": 4,
 "nbformat_minor": 5
}
