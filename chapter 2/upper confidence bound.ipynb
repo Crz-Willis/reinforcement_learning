{
 "cells": [
  {
   "cell_type": "code",
   "execution_count": 1,
   "id": "d39a35e2",
   "metadata": {},
   "outputs": [],
   "source": [
    "import random \n",
    "import numpy as np\n",
    "import matplotlib.pyplot as plt\n",
    "import math"
   ]
  },
  {
   "cell_type": "code",
   "execution_count": 2,
   "id": "6274be10",
   "metadata": {},
   "outputs": [],
   "source": [
    "class k_arm_bandit:\n",
    "    def __init__(self,k,tp,param):\n",
    "        self.reward=list(np.random.randn(k)) #赌博机的平均收益值\n",
    "        self.right_oper=np.argmax(self.reward)\n",
    "        self.steps=0\n",
    "        self.k=k\n",
    "        self.type=tp\n",
    "        if tp==\"epsilon_greedy\":\n",
    "            self.eps=param\n",
    "        elif tp==\"UCB\":\n",
    "            self.c=param\n",
    "        self.tp=tp\n",
    "        \n",
    "        self.average_reward=[0]*k #当前轮次的每个动作的平均收益\n",
    "        self.oper_nums=[0]*k #当前轮次每个动作的操作次数    \n",
    "        \n",
    "        self.all_average_reward=[] #当前轮次的平均收益\n",
    "        self.all_reward=0\n",
    "        self.right_operations=[] #当前轮次正确操作的概率\n",
    "        self.right_operations_number=0\n",
    "    \n",
    "    def get_action_with_epsilon_greedy(self):\n",
    "        x=random.random()\n",
    "        if x<self.eps:\n",
    "            return random.randint(0,self.k-1)\n",
    "        else:\n",
    "            max_operation=[]\n",
    "            max_value=max(self.average_reward)\n",
    "            for i in range(len(self.average_reward)):\n",
    "                if self.average_reward[i]==max_value:\n",
    "                    max_operation.append(i)\n",
    "            return random.choice(max_operation)\n",
    "        \n",
    "    def get_action_with_UCL(self):\n",
    "        inf=0x3f3f3f3f3f3f3f\n",
    "        U=[0]*self.k\n",
    "        for i in range(self.k):\n",
    "            U[i]=self.average_reward[i]\n",
    "            if self.oper_nums[i]==0:\n",
    "                U[i]=inf\n",
    "            else:\n",
    "                U[i]+=self.c*math.sqrt(math.log(self.steps)/self.oper_nums[i])\n",
    "        max_operation=[]\n",
    "        max_value=max(U)\n",
    "        for i in range(len(U)):\n",
    "            if U[i]==max_value:\n",
    "                max_operation.append(i)\n",
    "        return random.choice(max_operation)\n",
    "    \n",
    "    def get_reward(self,oper_id):\n",
    "        return self.reward[oper_id]+np.random.standard_normal()\n",
    "    \n",
    "    def update(self):\n",
    "        self.steps+=1\n",
    "        if self.tp==\"epsilon_greedy\":\n",
    "            A=self.get_action_with_epsilon_greedy()\n",
    "        elif self.tp==\"UCB\":\n",
    "            A=self.get_action_with_UCL()\n",
    "        R=self.get_reward(A)\n",
    "        \n",
    "        self.oper_nums[A]+=1\n",
    "        self.average_reward[A]=self.average_reward[A]+1.0/self.oper_nums[A]*(R-self.average_reward[A])\n",
    "        \n",
    "        \n",
    "        self.all_reward+=R\n",
    "        if A==self.right_oper:\n",
    "            self.right_operations_number+=1\n",
    "        self.all_average_reward.append(self.all_reward/self.steps)\n",
    "        self.right_operations.append(self.right_operations_number/self.steps)"
   ]
  },
  {
   "cell_type": "code",
   "execution_count": 3,
   "id": "12676976",
   "metadata": {},
   "outputs": [],
   "source": [
    "class epsilon_greedy:\n",
    "    def __init__(self,eps):\n",
    "        self.all_reward=[0]*1000\n",
    "        self.all_right_oper=[0]*1000\n",
    "        self.iter_num=2000\n",
    "        self.eps=0.1\n",
    "        \n",
    "    def wk(self):\n",
    "        for iteration in range(self.iter_num):\n",
    "            bandit=k_arm_bandit(10,\"epsilon_greedy\",0.1)\n",
    "            for steps in range(1000):\n",
    "                bandit.update()\n",
    "            for i in range(1000):\n",
    "                self.all_reward[i]+=bandit.all_average_reward[i]/self.iter_num\n",
    "                self.all_right_oper[i]+=bandit.right_operations[i]/self.iter_num*100\n",
    "            if((iteration+1)%100==0):\n",
    "                print(\"iter : {} done\".format(iteration+1))"
   ]
  },
  {
   "cell_type": "code",
   "execution_count": 4,
   "id": "d039838e",
   "metadata": {},
   "outputs": [],
   "source": [
    "class UCB:\n",
    "    def __init__(self,c):\n",
    "        self.all_reward=[0]*1000\n",
    "        self.all_right_oper=[0]*1000\n",
    "        self.iter_num=2000\n",
    "        self.c=c\n",
    "        \n",
    "    def wk(self):\n",
    "        for iteration in range(self.iter_num):\n",
    "            bandit=k_arm_bandit(10,\"UCB\",self.c)\n",
    "            for steps in range(1000):\n",
    "                bandit.update()\n",
    "            for i in range(1000):\n",
    "                self.all_reward[i]+=bandit.all_average_reward[i]/self.iter_num\n",
    "                self.all_right_oper[i]+=bandit.right_operations[i]/self.iter_num*100\n",
    "            if((iteration+1)%100==0):\n",
    "                print(\"iter : {} done\".format(iteration+1))"
   ]
  },
  {
   "cell_type": "code",
   "execution_count": 5,
   "id": "ee53f813",
   "metadata": {},
   "outputs": [
    {
     "name": "stdout",
     "output_type": "stream",
     "text": [
      "iter : 100 done\n",
      "iter : 200 done\n",
      "iter : 300 done\n",
      "iter : 400 done\n",
      "iter : 500 done\n",
      "iter : 600 done\n",
      "iter : 700 done\n",
      "iter : 800 done\n",
      "iter : 900 done\n",
      "iter : 1000 done\n",
      "iter : 1100 done\n",
      "iter : 1200 done\n",
      "iter : 1300 done\n",
      "iter : 1400 done\n",
      "iter : 1500 done\n",
      "iter : 1600 done\n",
      "iter : 1700 done\n",
      "iter : 1800 done\n",
      "iter : 1900 done\n",
      "iter : 2000 done\n"
     ]
    }
   ],
   "source": [
    "g1=epsilon_greedy(0.1)\n",
    "g1.wk()"
   ]
  },
  {
   "cell_type": "code",
   "execution_count": 6,
   "id": "a7619f28",
   "metadata": {},
   "outputs": [
    {
     "name": "stdout",
     "output_type": "stream",
     "text": [
      "iter : 100 done\n",
      "iter : 200 done\n",
      "iter : 300 done\n",
      "iter : 400 done\n",
      "iter : 500 done\n",
      "iter : 600 done\n",
      "iter : 700 done\n",
      "iter : 800 done\n",
      "iter : 900 done\n",
      "iter : 1000 done\n",
      "iter : 1100 done\n",
      "iter : 1200 done\n",
      "iter : 1300 done\n",
      "iter : 1400 done\n",
      "iter : 1500 done\n",
      "iter : 1600 done\n",
      "iter : 1700 done\n",
      "iter : 1800 done\n",
      "iter : 1900 done\n",
      "iter : 2000 done\n"
     ]
    }
   ],
   "source": [
    "g2=UCB(2)\n",
    "g2.wk()"
   ]
  },
  {
   "cell_type": "code",
   "execution_count": 7,
   "id": "638eb6e9",
   "metadata": {},
   "outputs": [
    {
     "data": {
      "text/plain": [
       "Text(0.5, 1.0, '% of best operations')"
      ]
     },
     "execution_count": 7,
     "metadata": {},
     "output_type": "execute_result"
    },
    {
     "data": {
      "image/png": "[encoded data removed]",
      "text/plain": [
       "<Figure size 432x288 with 1 Axes>"
      ]
     },
     "metadata": {
      "needs_background": "light"
     },
     "output_type": "display_data"
    }
   ],
   "source": [
    "x=[i for i in range(1,1001)]\n",
    "plt.plot(x,g1.all_right_oper,label='epsilon greedy')\n",
    "plt.plot(x,g2.all_right_oper,label=\"UCB\")\n",
    "plt.ylabel(\"percentage\")\n",
    "plt.xlabel(\"steps\")\n",
    "plt.legend()\n",
    "plt.title(\"% of best operations\")"
   ]
  },
  {
   "cell_type": "code",
   "execution_count": 8,
   "id": "7993d0a9",
   "metadata": {},
   "outputs": [
    {
     "data": {
      "text/plain": [
       "Text(0.5, 1.0, 'average reward')"
      ]
     },
     "execution_count": 8,
     "metadata": {},
     "output_type": "execute_result"
    },
    {
     "data": {
      "image/png": "[encoded data removed]",
      "text/plain": [
       "<Figure size 432x288 with 1 Axes>"
      ]
     },
     "metadata": {
      "needs_background": "light"
     },
     "output_type": "display_data"
    }
   ],
   "source": [
    "plt.plot(x,g1.all_reward,label='epsilon greedy')\n",
    "plt.plot(x,g2.all_reward,label='UCB')\n",
    "plt.ylabel(\"reward\")\n",
    "plt.xlabel(\"steps\")\n",
    "plt.legend()\n",
    "plt.title(\"average reward\")"
   ]
  },
  {
   "cell_type": "code",
   "execution_count": null,
   "id": "a9933493",
   "metadata": {},
   "outputs": [],
   "source": []
  }
 ],
 "metadata": {
  "kernelspec": {
   "display_name": "Python 3 (ipykernel)",
   "language": "python",
   "name": "python3"
  },
  "language_info": {
   "codemirror_mode": {
    "name": "ipython",
    "version": 3
   },
   "file_extension": ".py",
   "mimetype": "text/x-python",
   "name": "python",
   "nbconvert_exporter": "python",
   "pygments_lexer": "ipython3",
   "version": "3.9.12"
  }
 },
 "nbformat": 4,
 "nbformat_minor": 5
}
